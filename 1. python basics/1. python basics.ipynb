{
 "cells": [
  {
   "cell_type": "code",
   "execution_count": null,
   "id": "8b49cd98",
   "metadata": {},
   "outputs": [],
   "source": [
    "print(\"jerl\")"
   ]
  },
  {
   "cell_type": "code",
   "execution_count": null,
   "id": "94ab2438",
   "metadata": {},
   "outputs": [],
   "source": [
    "print(\"list \",\"of \",\"words\",sep='*')"
   ]
  },
  {
   "cell_type": "code",
   "execution_count": 59,
   "id": "cda87a9a",
   "metadata": {},
   "outputs": [
    {
     "name": "stdout",
     "output_type": "stream",
     "text": [
      "410186270246002225336426103593500672000000000000000000000000000000000 "
     ]
    }
   ],
   "source": [
    "i=5\n",
    "while i>0:\n",
    "    v=v*i\n",
    "    i-=1\n",
    "\n",
    "print(v, end=\" \")"
   ]
  },
  {
   "cell_type": "markdown",
   "id": "7558cdb5",
   "metadata": {},
   "source": [
    "# var"
   ]
  },
  {
   "cell_type": "code",
   "execution_count": 63,
   "id": "538ad305",
   "metadata": {},
   "outputs": [
    {
     "name": "stdout",
     "output_type": "stream",
     "text": [
      "708801874985091845381344307009569161216000000000000000000000000000000000000 "
     ]
    }
   ],
   "source": [
    "i=5\n",
    "while i>0:\n",
    "    v=v*i\n",
    "    i-=1\n",
    "\n",
    "print(v, end=\" \")"
   ]
  },
  {
   "cell_type": "code",
   "execution_count": 71,
   "id": "c2695e3a",
   "metadata": {},
   "outputs": [
    {
     "name": "stdout",
     "output_type": "stream",
     "text": [
      "gnidoc\n"
     ]
    }
   ],
   "source": [
    "a=\"coding\"\n",
    "sliced=a[::-1]\n",
    "print(sliced)"
   ]
  },
  {
   "cell_type": "code",
   "execution_count": null,
   "id": "bb3f2bac",
   "metadata": {},
   "outputs": [],
   "source": []
  }
 ],
 "metadata": {
  "kernelspec": {
   "display_name": "Python 3 (ipykernel)",
   "language": "python",
   "name": "python3"
  },
  "language_info": {
   "codemirror_mode": {
    "name": "ipython",
    "version": 3
   },
   "file_extension": ".py",
   "mimetype": "text/x-python",
   "name": "python",
   "nbconvert_exporter": "python",
   "pygments_lexer": "ipython3",
   "version": "3.10.9"
  }
 },
 "nbformat": 4,
 "nbformat_minor": 5
}
